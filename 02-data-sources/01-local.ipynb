{
  "metadata": {
    "kernelspec": {
      "name": "python",
      "display_name": "Python (Pyodide)",
      "language": "python"
    },
    "language_info": {
      "codemirror_mode": {
        "name": "python",
        "version": 3
      },
      "file_extension": ".py",
      "mimetype": "text/x-python",
      "name": "python",
      "nbconvert_exporter": "python",
      "pygments_lexer": "ipython3",
      "version": "3.8"
    }
  },
  "nbformat_minor": 4,
  "nbformat": 4,
  "cells": [
    {
      "cell_type": "markdown",
      "source": "# Example: Opening large local datasets",
      "metadata": {}
    },
    {
      "cell_type": "markdown",
      "source": "```{note}\nThe online laboratory has only been tested in recent Firefox and Chrome browsers. Some features may not (yet) be supported in Safari browsers.\n```\n\n```{caution}\nIn the online laboratory, changes to notebooks and local files are only saved in your web browser's storage and not persisted to disk.\n\nPlease download copies of any files that you don't want to loose.\n\nYour files from an old session will usually be kept if you close or refresh this page, unless your browser's storage for `lab.climet.eu` is cleared, e.g.\n- manually by clearing the browser's site data\n- automatically when too much data is stored\n- automatically when you close a private browsing context\n- if you have setup your browser to clear site data, e.g. when the browser is closed\n```",
      "metadata": {
        "tags": [],
        "editable": true,
        "slideshow": {
          "slide_type": ""
        }
      }
    },
    {
      "cell_type": "code",
      "source": "import sys\nsys.path.insert(0, \"..\")",
      "metadata": {
        "trusted": true
      },
      "outputs": [],
      "execution_count": 1
    },
    {
      "cell_type": "code",
      "source": "import utils",
      "metadata": {
        "trusted": true
      },
      "outputs": [],
      "execution_count": 2
    },
    {
      "cell_type": "markdown",
      "source": "## Motivation\n\nThe online laboratory operates within a memory constrained environment. Therefore, downloading large datasets into the lab is often not possible.\n\nIf the data is stored remotely, e.g. because if exceeds even the size of your machine's working memory or even file storage, [`02-remote.ipynb`](02-remote.ipynb) shows you how to open the remote data to stream it in as needed.\n\nHowever, if you already have the dataset stored in your local filesystem, mounting the local file into the online laboratory is the preferred option. This approach is explored in this notebook.\n\nNote that you only need to use this approach when running notebooks in the online laboratory on <https://lab.climet.eu>. If you are running notebooks locally, you can simply `open()` the local file directly.",
      "metadata": {}
    },
    {
      "cell_type": "markdown",
      "source": "## Mounting a local file into the laboratory",
      "metadata": {}
    },
    {
      "cell_type": "markdown",
      "source": "Mounting a local file might seem similar to uploading it. However\n\n1. Mounting does not copy any data and does not read the file into memory, thus allowing arbitrarily large files to be made accessible.\n2. A mounted file never leaves your machine and is not uploaded to any server. This is especially important if your data contains sensitive information.\n\nIt is worth remembering that large files can still only be read if the algorithm that processes them supports streaming or chunking and does not request to load all data into memory at the same time.",
      "metadata": {}
    },
    {
      "cell_type": "code",
      "source": "upload_path = await utils.mount_user_local_file()\nupload_path",
      "metadata": {
        "trusted": true
      },
      "outputs": [
        {
          "name": "stdout",
          "output_type": "stream",
          "text": "[pyodide]: Loading ipyfilite, ipywidgets, jupyterlab_widgets, widgetsnbextension\n[pyodide]: Loaded ipyfilite, ipywidgets, jupyterlab_widgets, widgetsnbextension\n"
        },
        {
          "output_type": "display_data",
          "data": {
            "text/plain": "FileUploadLite(value=(), description='Upload')",
            "application/vnd.jupyter.widget-view+json": {
              "version_major": 2,
              "version_minor": 0,
              "model_id": "832d2be0329446aa9283992787a86b92"
            }
          },
          "metadata": {}
        },
        {
          "execution_count": 3,
          "output_type": "execute_result",
          "data": {
            "text/plain": "PosixPath('/uploads/18d1e70d-7d05-40ed-91ea-81958220885a/03-t2m.nc')"
          },
          "metadata": {}
        }
      ],
      "execution_count": 3
    },
    {
      "cell_type": "markdown",
      "source": "## Loading the file into `xarray`",
      "metadata": {}
    },
    {
      "cell_type": "code",
      "source": "import cfgrib\nimport netCDF4\nimport zarr\n\nimport xarray as xr",
      "metadata": {
        "trusted": true
      },
      "outputs": [
        {
          "name": "stdout",
          "output_type": "stream",
          "text": "[pyodide]: Loading asciitree, attrs, cffi, cfgrib, cftime, click, eccodes, findlibs, netCDF4, numcodecs, numpy, pandas, pycparser, python-dateutil, pytz, six, tzdata, xarray, zarr\n[pyodide]: Loaded asciitree, attrs, cffi, cfgrib, cftime, click, eccodes, findlibs, netCDF4, numcodecs, numpy, pandas, pycparser, python-dateutil, pytz, six, tzdata, xarray, zarr\n[pyodide]: Loading pyarrow, pyodide-unix-timezones\n[pyodide]: Loaded pyarrow, pyodide-unix-timezones\n[pyodide]: Loading cloudpickle\n[pyodide]: Loaded cloudpickle\n[pyodide]: Loading PyYAML, dask, fsspec, locket, partd, toolz\n[pyodide]: Loaded PyYAML, dask, fsspec, locket, partd, toolz\n[pyodide]: Loading msgpack\n[pyodide]: Loaded msgpack\n[pyodide]: Memory usage has grown to 154.8MiB (from 49.9MiB) for this notebook\n[pyodide]: Loaded 78 new dynamic libraries (84 total for this notebook)\n"
        }
      ],
      "execution_count": 4
    },
    {
      "cell_type": "markdown",
      "source": "Finally, we can load the data into `xarray` as usual.\n\nWhen opening a GRIB dataset, `cfgrib` looks for or creates an index file for the dataset. Since we have mounted the local GRIB file as read-only, however, `cfgrib` is unable to create the index file at its usual location and will fail with a cryptic error. You can either disable the generation of an index file using\n\n```python\nxr.open_dataset(dataset_path, backend_kwargs=dict(indexpath=\"\"))\n```\n\nor provide an explicit index path instead using, e.g\n\n```python\nfrom pathlib import Path\n\nxr.open_dataset(dataset_path, backend_kwargs=dict(\n    indexpath=f\"./{Path(dataset_path).name}.{{short_hash}}.idx\",\n))\n```\n\nThe `utils.open_dataset(..)` helper function uses the first strategy and automatically disables the generation of an index file.",
      "metadata": {}
    },
    {
      "cell_type": "code",
      "source": "ds = xr.open_dataset(upload_path)\nds",
      "metadata": {
        "trusted": true
      },
      "outputs": [
        {
          "name": "stdout",
          "output_type": "stream",
          "text": "[pyodide]: Loading h5netcdf, h5py\n[pyodide]: Loaded h5netcdf, h5py\n[pyodide]: Loading scipy\n[pyodide]: Loaded scipy\n[pyodide]: Loading Pint, flexcache, flexparser, platformdirs, typing_extensions\n[pyodide]: Loaded Pint, flexcache, flexparser, platformdirs, typing_extensions\n[pyodide]: Loading future, uncertainties\n[pyodide]: Loaded future, uncertainties\n[pyodide]: Loading Jinja2, MarkupSafe\n[pyodide]: Loaded Jinja2, MarkupSafe\n"
        },
        {
          "execution_count": 5,
          "output_type": "execute_result",
          "data": {
            "text/plain": "<xarray.Dataset> Size: 4MB\nDimensions:     (valid_time: 1, latitude: 721, longitude: 1440)\nCoordinates:\n    number      int64 8B ...\n  * valid_time  (valid_time) datetime64[ns] 8B 2012-12-01T14:00:00\n  * latitude    (latitude) float64 6kB 90.0 89.75 89.5 ... -89.5 -89.75 -90.0\n  * longitude   (longitude) float64 12kB 0.0 0.25 0.5 0.75 ... 359.2 359.5 359.8\n    expver      <U4 16B ...\nData variables:\n    t2m         (valid_time, latitude, longitude) float32 4MB ...\nAttributes:\n    GRIB_centre:             ecmf\n    GRIB_centreDescription:  European Centre for Medium-Range Weather Forecasts\n    GRIB_subCentre:          0\n    Conventions:             CF-1.7\n    institution:             European Centre for Medium-Range Weather Forecasts\n    history:                 2025-01-31T14:57 GRIB to CDM+CF via cfgrib-0.9.1...",
            "text/html": "<div><svg style=\"position: absolute; width: 0; height: 0; overflow: hidden\">\n<defs>\n<symbol id=\"icon-database\" viewBox=\"0 0 32 32\">\n<path d=\"M16 0c-8.837 0-16 2.239-16 5v4c0 2.761 7.163 5 16 5s16-2.239 16-5v-4c0-2.761-7.163-5-16-5z\"></path>\n<path d=\"M16 17c-8.837 0-16-2.239-16-5v6c0 2.761 7.163 5 16 5s16-2.239 16-5v-6c0 2.761-7.163 5-16 5z\"></path>\n<path d=\"M16 26c-8.837 0-16-2.239-16-5v6c0 2.761 7.163 5 16 5s16-2.239 16-5v-6c0 2.761-7.163 5-16 5z\"></path>\n</symbol>\n<symbol id=\"icon-file-text2\" viewBox=\"0 0 32 32\">\n<path d=\"M28.681 7.159c-0.694-0.947-1.662-2.053-2.724-3.116s-2.169-2.030-3.116-2.724c-1.612-1.182-2.393-1.319-2.841-1.319h-15.5c-1.378 0-2.5 1.121-2.5 2.5v27c0 1.378 1.122 2.5 2.5 2.5h23c1.378 0 2.5-1.122 2.5-2.5v-19.5c0-0.448-0.137-1.23-1.319-2.841zM24.543 5.457c0.959 0.959 1.712 1.825 2.268 2.543h-4.811v-4.811c0.718 0.556 1.584 1.309 2.543 2.268zM28 29.5c0 0.271-0.229 0.5-0.5 0.5h-23c-0.271 0-0.5-0.229-0.5-0.5v-27c0-0.271 0.229-0.5 0.5-0.5 0 0 15.499-0 15.5 0v7c0 0.552 0.448 1 1 1h7v19.5z\"></path>\n<path d=\"M23 26h-14c-0.552 0-1-0.448-1-1s0.448-1 1-1h14c0.552 0 1 0.448 1 1s-0.448 1-1 1z\"></path>\n<path d=\"M23 22h-14c-0.552 0-1-0.448-1-1s0.448-1 1-1h14c0.552 0 1 0.448 1 1s-0.448 1-1 1z\"></path>\n<path d=\"M23 18h-14c-0.552 0-1-0.448-1-1s0.448-1 1-1h14c0.552 0 1 0.448 1 1s-0.448 1-1 1z\"></path>\n</symbol>\n</defs>\n</svg>\n<style>/* CSS stylesheet for displaying xarray objects in jupyterlab.\n *\n */\n\n:root {\n  --xr-font-color0: var(--jp-content-font-color0, rgba(0, 0, 0, 1));\n  --xr-font-color2: var(--jp-content-font-color2, rgba(0, 0, 0, 0.54));\n  --xr-font-color3: var(--jp-content-font-color3, rgba(0, 0, 0, 0.38));\n  --xr-border-color: var(--jp-border-color2, #e0e0e0);\n  --xr-disabled-color: var(--jp-layout-color3, #bdbdbd);\n  --xr-background-color: var(--jp-layout-color0, white);\n  --xr-background-color-row-even: var(--jp-layout-color1, white);\n  --xr-background-color-row-odd: var(--jp-layout-color2, #eeeeee);\n}\n\nhtml[theme=\"dark\"],\nhtml[data-theme=\"dark\"],\nbody[data-theme=\"dark\"],\nbody.vscode-dark {\n  --xr-font-color0: rgba(255, 255, 255, 1);\n  --xr-font-color2: rgba(255, 255, 255, 0.54);\n  --xr-font-color3: rgba(255, 255, 255, 0.38);\n  --xr-border-color: #1f1f1f;\n  --xr-disabled-color: #515151;\n  --xr-background-color: #111111;\n  --xr-background-color-row-even: #111111;\n  --xr-background-color-row-odd: #313131;\n}\n\n.xr-wrap {\n  display: block !important;\n  min-width: 300px;\n  max-width: 700px;\n}\n\n.xr-text-repr-fallback {\n  /* fallback to plain text repr when CSS is not injected (untrusted notebook) */\n  display: none;\n}\n\n.xr-header {\n  padding-top: 6px;\n  padding-bottom: 6px;\n  margin-bottom: 4px;\n  border-bottom: solid 1px var(--xr-border-color);\n}\n\n.xr-header > div,\n.xr-header > ul {\n  display: inline;\n  margin-top: 0;\n  margin-bottom: 0;\n}\n\n.xr-obj-type,\n.xr-array-name {\n  margin-left: 2px;\n  margin-right: 10px;\n}\n\n.xr-obj-type {\n  color: var(--xr-font-color2);\n}\n\n.xr-sections {\n  padding-left: 0 !important;\n  display: grid;\n  grid-template-columns: 150px auto auto 1fr 0 20px 0 20px;\n}\n\n.xr-section-item {\n  display: contents;\n}\n\n.xr-section-item input {\n  display: inline-block;\n  opacity: 0;\n  height: 0;\n}\n\n.xr-section-item input + label {\n  color: var(--xr-disabled-color);\n}\n\n.xr-section-item input:enabled + label {\n  cursor: pointer;\n  color: var(--xr-font-color2);\n}\n\n.xr-section-item input:focus + label {\n  border: 2px solid var(--xr-font-color0);\n}\n\n.xr-section-item input:enabled + label:hover {\n  color: var(--xr-font-color0);\n}\n\n.xr-section-summary {\n  grid-column: 1;\n  color: var(--xr-font-color2);\n  font-weight: 500;\n}\n\n.xr-section-summary > span {\n  display: inline-block;\n  padding-left: 0.5em;\n}\n\n.xr-section-summary-in:disabled + label {\n  color: var(--xr-font-color2);\n}\n\n.xr-section-summary-in + label:before {\n  display: inline-block;\n  content: \"►\";\n  font-size: 11px;\n  width: 15px;\n  text-align: center;\n}\n\n.xr-section-summary-in:disabled + label:before {\n  color: var(--xr-disabled-color);\n}\n\n.xr-section-summary-in:checked + label:before {\n  content: \"▼\";\n}\n\n.xr-section-summary-in:checked + label > span {\n  display: none;\n}\n\n.xr-section-summary,\n.xr-section-inline-details {\n  padding-top: 4px;\n  padding-bottom: 4px;\n}\n\n.xr-section-inline-details {\n  grid-column: 2 / -1;\n}\n\n.xr-section-details {\n  display: none;\n  grid-column: 1 / -1;\n  margin-bottom: 5px;\n}\n\n.xr-section-summary-in:checked ~ .xr-section-details {\n  display: contents;\n}\n\n.xr-array-wrap {\n  grid-column: 1 / -1;\n  display: grid;\n  grid-template-columns: 20px auto;\n}\n\n.xr-array-wrap > label {\n  grid-column: 1;\n  vertical-align: top;\n}\n\n.xr-preview {\n  color: var(--xr-font-color3);\n}\n\n.xr-array-preview,\n.xr-array-data {\n  padding: 0 5px !important;\n  grid-column: 2;\n}\n\n.xr-array-data,\n.xr-array-in:checked ~ .xr-array-preview {\n  display: none;\n}\n\n.xr-array-in:checked ~ .xr-array-data,\n.xr-array-preview {\n  display: inline-block;\n}\n\n.xr-dim-list {\n  display: inline-block !important;\n  list-style: none;\n  padding: 0 !important;\n  margin: 0;\n}\n\n.xr-dim-list li {\n  display: inline-block;\n  padding: 0;\n  margin: 0;\n}\n\n.xr-dim-list:before {\n  content: \"(\";\n}\n\n.xr-dim-list:after {\n  content: \")\";\n}\n\n.xr-dim-list li:not(:last-child):after {\n  content: \",\";\n  padding-right: 5px;\n}\n\n.xr-has-index {\n  font-weight: bold;\n}\n\n.xr-var-list,\n.xr-var-item {\n  display: contents;\n}\n\n.xr-var-item > div,\n.xr-var-item label,\n.xr-var-item > .xr-var-name span {\n  background-color: var(--xr-background-color-row-even);\n  margin-bottom: 0;\n}\n\n.xr-var-item > .xr-var-name:hover span {\n  padding-right: 5px;\n}\n\n.xr-var-list > li:nth-child(odd) > div,\n.xr-var-list > li:nth-child(odd) > label,\n.xr-var-list > li:nth-child(odd) > .xr-var-name span {\n  background-color: var(--xr-background-color-row-odd);\n}\n\n.xr-var-name {\n  grid-column: 1;\n}\n\n.xr-var-dims {\n  grid-column: 2;\n}\n\n.xr-var-dtype {\n  grid-column: 3;\n  text-align: right;\n  color: var(--xr-font-color2);\n}\n\n.xr-var-preview {\n  grid-column: 4;\n}\n\n.xr-index-preview {\n  grid-column: 2 / 5;\n  color: var(--xr-font-color2);\n}\n\n.xr-var-name,\n.xr-var-dims,\n.xr-var-dtype,\n.xr-preview,\n.xr-attrs dt {\n  white-space: nowrap;\n  overflow: hidden;\n  text-overflow: ellipsis;\n  padding-right: 10px;\n}\n\n.xr-var-name:hover,\n.xr-var-dims:hover,\n.xr-var-dtype:hover,\n.xr-attrs dt:hover {\n  overflow: visible;\n  width: auto;\n  z-index: 1;\n}\n\n.xr-var-attrs,\n.xr-var-data,\n.xr-index-data {\n  display: none;\n  background-color: var(--xr-background-color) !important;\n  padding-bottom: 5px !important;\n}\n\n.xr-var-attrs-in:checked ~ .xr-var-attrs,\n.xr-var-data-in:checked ~ .xr-var-data,\n.xr-index-data-in:checked ~ .xr-index-data {\n  display: block;\n}\n\n.xr-var-data > table {\n  float: right;\n}\n\n.xr-var-name span,\n.xr-var-data,\n.xr-index-name div,\n.xr-index-data,\n.xr-attrs {\n  padding-left: 25px !important;\n}\n\n.xr-attrs,\n.xr-var-attrs,\n.xr-var-data,\n.xr-index-data {\n  grid-column: 1 / -1;\n}\n\ndl.xr-attrs {\n  padding: 0;\n  margin: 0;\n  display: grid;\n  grid-template-columns: 125px auto;\n}\n\n.xr-attrs dt,\n.xr-attrs dd {\n  padding: 0;\n  margin: 0;\n  float: left;\n  padding-right: 10px;\n  width: auto;\n}\n\n.xr-attrs dt {\n  font-weight: normal;\n  grid-column: 1;\n}\n\n.xr-attrs dt:hover span {\n  display: inline-block;\n  background: var(--xr-background-color);\n  padding-right: 10px;\n}\n\n.xr-attrs dd {\n  grid-column: 2;\n  white-space: pre-wrap;\n  word-break: break-all;\n}\n\n.xr-icon-database,\n.xr-icon-file-text2,\n.xr-no-icon {\n  display: inline-block;\n  vertical-align: middle;\n  width: 1em;\n  height: 1.5em !important;\n  stroke-width: 0;\n  stroke: currentColor;\n  fill: currentColor;\n}\n</style><pre class='xr-text-repr-fallback'>&lt;xarray.Dataset&gt; Size: 4MB\nDimensions:     (valid_time: 1, latitude: 721, longitude: 1440)\nCoordinates:\n    number      int64 8B ...\n  * valid_time  (valid_time) datetime64[ns] 8B 2012-12-01T14:00:00\n  * latitude    (latitude) float64 6kB 90.0 89.75 89.5 ... -89.5 -89.75 -90.0\n  * longitude   (longitude) float64 12kB 0.0 0.25 0.5 0.75 ... 359.2 359.5 359.8\n    expver      &lt;U4 16B ...\nData variables:\n    t2m         (valid_time, latitude, longitude) float32 4MB ...\nAttributes:\n    GRIB_centre:             ecmf\n    GRIB_centreDescription:  European Centre for Medium-Range Weather Forecasts\n    GRIB_subCentre:          0\n    Conventions:             CF-1.7\n    institution:             European Centre for Medium-Range Weather Forecasts\n    history:                 2025-01-31T14:57 GRIB to CDM+CF via cfgrib-0.9.1...</pre><div class='xr-wrap' style='display:none'><div class='xr-header'><div class='xr-obj-type'>xarray.Dataset</div></div><ul class='xr-sections'><li class='xr-section-item'><input id='section-1d972766-ddd0-422c-843f-e801cedb4be5' class='xr-section-summary-in' type='checkbox' disabled ><label for='section-1d972766-ddd0-422c-843f-e801cedb4be5' class='xr-section-summary'  title='Expand/collapse section'>Dimensions:</label><div class='xr-section-inline-details'><ul class='xr-dim-list'><li><span class='xr-has-index'>valid_time</span>: 1</li><li><span class='xr-has-index'>latitude</span>: 721</li><li><span class='xr-has-index'>longitude</span>: 1440</li></ul></div><div class='xr-section-details'></div></li><li class='xr-section-item'><input id='section-da680b63-7d0f-4714-b471-9568f20773fe' class='xr-section-summary-in' type='checkbox'  checked><label for='section-da680b63-7d0f-4714-b471-9568f20773fe' class='xr-section-summary' >Coordinates: <span>(5)</span></label><div class='xr-section-inline-details'></div><div class='xr-section-details'><ul class='xr-var-list'><li class='xr-var-item'><div class='xr-var-name'><span>number</span></div><div class='xr-var-dims'>()</div><div class='xr-var-dtype'>int64</div><div class='xr-var-preview xr-preview'>...</div><input id='attrs-9560873e-16ba-45d8-ab2d-1bb86d0b8508' class='xr-var-attrs-in' type='checkbox' ><label for='attrs-9560873e-16ba-45d8-ab2d-1bb86d0b8508' title='Show/Hide attributes'><svg class='icon xr-icon-file-text2'><use xlink:href='#icon-file-text2'></use></svg></label><input id='data-91f55950-67b5-4f2d-adf2-75181dc94bd1' class='xr-var-data-in' type='checkbox'><label for='data-91f55950-67b5-4f2d-adf2-75181dc94bd1' title='Show/Hide data repr'><svg class='icon xr-icon-database'><use xlink:href='#icon-database'></use></svg></label><div class='xr-var-attrs'><dl class='xr-attrs'><dt><span>long_name :</span></dt><dd>ensemble member numerical id</dd><dt><span>units :</span></dt><dd>1</dd><dt><span>standard_name :</span></dt><dd>realization</dd></dl></div><div class='xr-var-data'><pre>[1 values with dtype=int64]</pre></div></li><li class='xr-var-item'><div class='xr-var-name'><span class='xr-has-index'>valid_time</span></div><div class='xr-var-dims'>(valid_time)</div><div class='xr-var-dtype'>datetime64[ns]</div><div class='xr-var-preview xr-preview'>2012-12-01T14:00:00</div><input id='attrs-6781f675-d353-48fb-bb33-8d41bdf78876' class='xr-var-attrs-in' type='checkbox' ><label for='attrs-6781f675-d353-48fb-bb33-8d41bdf78876' title='Show/Hide attributes'><svg class='icon xr-icon-file-text2'><use xlink:href='#icon-file-text2'></use></svg></label><input id='data-00b9113f-8b06-42b0-9e88-323a9ed7f4c5' class='xr-var-data-in' type='checkbox'><label for='data-00b9113f-8b06-42b0-9e88-323a9ed7f4c5' title='Show/Hide data repr'><svg class='icon xr-icon-database'><use xlink:href='#icon-database'></use></svg></label><div class='xr-var-attrs'><dl class='xr-attrs'><dt><span>long_name :</span></dt><dd>time</dd><dt><span>standard_name :</span></dt><dd>time</dd></dl></div><div class='xr-var-data'><pre>array([&#x27;2012-12-01T14:00:00.000000000&#x27;], dtype=&#x27;datetime64[ns]&#x27;)</pre></div></li><li class='xr-var-item'><div class='xr-var-name'><span class='xr-has-index'>latitude</span></div><div class='xr-var-dims'>(latitude)</div><div class='xr-var-dtype'>float64</div><div class='xr-var-preview xr-preview'>90.0 89.75 89.5 ... -89.75 -90.0</div><input id='attrs-6722bac4-888a-48b0-8e51-eb1002b57343' class='xr-var-attrs-in' type='checkbox' ><label for='attrs-6722bac4-888a-48b0-8e51-eb1002b57343' title='Show/Hide attributes'><svg class='icon xr-icon-file-text2'><use xlink:href='#icon-file-text2'></use></svg></label><input id='data-52beff49-8bf6-4301-b93a-9a639c9dd4f9' class='xr-var-data-in' type='checkbox'><label for='data-52beff49-8bf6-4301-b93a-9a639c9dd4f9' title='Show/Hide data repr'><svg class='icon xr-icon-database'><use xlink:href='#icon-database'></use></svg></label><div class='xr-var-attrs'><dl class='xr-attrs'><dt><span>units :</span></dt><dd>degrees_north</dd><dt><span>standard_name :</span></dt><dd>latitude</dd><dt><span>long_name :</span></dt><dd>latitude</dd><dt><span>stored_direction :</span></dt><dd>decreasing</dd></dl></div><div class='xr-var-data'><pre>array([ 90.  ,  89.75,  89.5 , ..., -89.5 , -89.75, -90.  ])</pre></div></li><li class='xr-var-item'><div class='xr-var-name'><span class='xr-has-index'>longitude</span></div><div class='xr-var-dims'>(longitude)</div><div class='xr-var-dtype'>float64</div><div class='xr-var-preview xr-preview'>0.0 0.25 0.5 ... 359.2 359.5 359.8</div><input id='attrs-2ab48657-a353-4573-a04a-95db597ad038' class='xr-var-attrs-in' type='checkbox' ><label for='attrs-2ab48657-a353-4573-a04a-95db597ad038' title='Show/Hide attributes'><svg class='icon xr-icon-file-text2'><use xlink:href='#icon-file-text2'></use></svg></label><input id='data-467d2ed1-dd3b-4622-a7df-51b5bb070356' class='xr-var-data-in' type='checkbox'><label for='data-467d2ed1-dd3b-4622-a7df-51b5bb070356' title='Show/Hide data repr'><svg class='icon xr-icon-database'><use xlink:href='#icon-database'></use></svg></label><div class='xr-var-attrs'><dl class='xr-attrs'><dt><span>units :</span></dt><dd>degrees_east</dd><dt><span>standard_name :</span></dt><dd>longitude</dd><dt><span>long_name :</span></dt><dd>longitude</dd></dl></div><div class='xr-var-data'><pre>array([0.0000e+00, 2.5000e-01, 5.0000e-01, ..., 3.5925e+02, 3.5950e+02,\n       3.5975e+02])</pre></div></li><li class='xr-var-item'><div class='xr-var-name'><span>expver</span></div><div class='xr-var-dims'>()</div><div class='xr-var-dtype'>&lt;U4</div><div class='xr-var-preview xr-preview'>...</div><input id='attrs-1d5aa645-425c-4d6d-a588-705ab73e6c20' class='xr-var-attrs-in' type='checkbox' disabled><label for='attrs-1d5aa645-425c-4d6d-a588-705ab73e6c20' title='Show/Hide attributes'><svg class='icon xr-icon-file-text2'><use xlink:href='#icon-file-text2'></use></svg></label><input id='data-8e8ae255-029d-4f0a-89db-7416ac399207' class='xr-var-data-in' type='checkbox'><label for='data-8e8ae255-029d-4f0a-89db-7416ac399207' title='Show/Hide data repr'><svg class='icon xr-icon-database'><use xlink:href='#icon-database'></use></svg></label><div class='xr-var-attrs'><dl class='xr-attrs'></dl></div><div class='xr-var-data'><pre>[1 values with dtype=&lt;U4]</pre></div></li></ul></div></li><li class='xr-section-item'><input id='section-4a31968b-4edc-4d7f-90e3-5b2834fe8a14' class='xr-section-summary-in' type='checkbox'  checked><label for='section-4a31968b-4edc-4d7f-90e3-5b2834fe8a14' class='xr-section-summary' >Data variables: <span>(1)</span></label><div class='xr-section-inline-details'></div><div class='xr-section-details'><ul class='xr-var-list'><li class='xr-var-item'><div class='xr-var-name'><span>t2m</span></div><div class='xr-var-dims'>(valid_time, latitude, longitude)</div><div class='xr-var-dtype'>float32</div><div class='xr-var-preview xr-preview'>...</div><input id='attrs-bc60832b-bcb8-4067-8ee8-5e210687517b' class='xr-var-attrs-in' type='checkbox' ><label for='attrs-bc60832b-bcb8-4067-8ee8-5e210687517b' title='Show/Hide attributes'><svg class='icon xr-icon-file-text2'><use xlink:href='#icon-file-text2'></use></svg></label><input id='data-5185f345-ba1f-434e-9594-ef960bff1ccc' class='xr-var-data-in' type='checkbox'><label for='data-5185f345-ba1f-434e-9594-ef960bff1ccc' title='Show/Hide data repr'><svg class='icon xr-icon-database'><use xlink:href='#icon-database'></use></svg></label><div class='xr-var-attrs'><dl class='xr-attrs'><dt><span>GRIB_paramId :</span></dt><dd>167</dd><dt><span>GRIB_dataType :</span></dt><dd>an</dd><dt><span>GRIB_numberOfPoints :</span></dt><dd>1038240</dd><dt><span>GRIB_typeOfLevel :</span></dt><dd>surface</dd><dt><span>GRIB_stepUnits :</span></dt><dd>1</dd><dt><span>GRIB_stepType :</span></dt><dd>instant</dd><dt><span>GRIB_gridType :</span></dt><dd>regular_ll</dd><dt><span>GRIB_uvRelativeToGrid :</span></dt><dd>0</dd><dt><span>GRIB_NV :</span></dt><dd>0</dd><dt><span>GRIB_Nx :</span></dt><dd>1440</dd><dt><span>GRIB_Ny :</span></dt><dd>721</dd><dt><span>GRIB_cfName :</span></dt><dd>unknown</dd><dt><span>GRIB_cfVarName :</span></dt><dd>t2m</dd><dt><span>GRIB_gridDefinitionDescription :</span></dt><dd>Latitude/Longitude Grid</dd><dt><span>GRIB_iDirectionIncrementInDegrees :</span></dt><dd>0.25</dd><dt><span>GRIB_iScansNegatively :</span></dt><dd>0</dd><dt><span>GRIB_jDirectionIncrementInDegrees :</span></dt><dd>0.25</dd><dt><span>GRIB_jPointsAreConsecutive :</span></dt><dd>0</dd><dt><span>GRIB_jScansPositively :</span></dt><dd>0</dd><dt><span>GRIB_latitudeOfFirstGridPointInDegrees :</span></dt><dd>90.0</dd><dt><span>GRIB_latitudeOfLastGridPointInDegrees :</span></dt><dd>-90.0</dd><dt><span>GRIB_longitudeOfFirstGridPointInDegrees :</span></dt><dd>0.0</dd><dt><span>GRIB_longitudeOfLastGridPointInDegrees :</span></dt><dd>359.75</dd><dt><span>GRIB_missingValue :</span></dt><dd>3.4028234663852886e+38</dd><dt><span>GRIB_name :</span></dt><dd>2 metre temperature</dd><dt><span>GRIB_shortName :</span></dt><dd>2t</dd><dt><span>GRIB_totalNumber :</span></dt><dd>0</dd><dt><span>GRIB_units :</span></dt><dd>K</dd><dt><span>long_name :</span></dt><dd>2 metre temperature</dd><dt><span>units :</span></dt><dd>K</dd><dt><span>standard_name :</span></dt><dd>unknown</dd><dt><span>GRIB_surface :</span></dt><dd>0.0</dd></dl></div><div class='xr-var-data'><pre>[1038240 values with dtype=float32]</pre></div></li></ul></div></li><li class='xr-section-item'><input id='section-4e5cceba-1c78-4a61-a204-2cf931415549' class='xr-section-summary-in' type='checkbox'  ><label for='section-4e5cceba-1c78-4a61-a204-2cf931415549' class='xr-section-summary' >Indexes: <span>(3)</span></label><div class='xr-section-inline-details'></div><div class='xr-section-details'><ul class='xr-var-list'><li class='xr-var-item'><div class='xr-index-name'><div>valid_time</div></div><div class='xr-index-preview'>PandasIndex</div><input type='checkbox' disabled/><label></label><input id='index-531727ca-d06d-4b5d-9baf-dc420617b955' class='xr-index-data-in' type='checkbox'/><label for='index-531727ca-d06d-4b5d-9baf-dc420617b955' title='Show/Hide index repr'><svg class='icon xr-icon-database'><use xlink:href='#icon-database'></use></svg></label><div class='xr-index-data'><pre>PandasIndex(DatetimeIndex([&#x27;2012-12-01 14:00:00&#x27;], dtype=&#x27;datetime64[ns]&#x27;, name=&#x27;valid_time&#x27;, freq=None))</pre></div></li><li class='xr-var-item'><div class='xr-index-name'><div>latitude</div></div><div class='xr-index-preview'>PandasIndex</div><input type='checkbox' disabled/><label></label><input id='index-38744619-b597-4442-ab4c-807b2915ded5' class='xr-index-data-in' type='checkbox'/><label for='index-38744619-b597-4442-ab4c-807b2915ded5' title='Show/Hide index repr'><svg class='icon xr-icon-database'><use xlink:href='#icon-database'></use></svg></label><div class='xr-index-data'><pre>PandasIndex(Index([  90.0,  89.75,   89.5,  89.25,   89.0,  88.75,   88.5,  88.25,   88.0,\n        87.75,\n       ...\n       -87.75,  -88.0, -88.25,  -88.5, -88.75,  -89.0, -89.25,  -89.5, -89.75,\n        -90.0],\n      dtype=&#x27;float64&#x27;, name=&#x27;latitude&#x27;, length=721))</pre></div></li><li class='xr-var-item'><div class='xr-index-name'><div>longitude</div></div><div class='xr-index-preview'>PandasIndex</div><input type='checkbox' disabled/><label></label><input id='index-b8385e6a-3f4d-447b-9e35-3a6f7d459678' class='xr-index-data-in' type='checkbox'/><label for='index-b8385e6a-3f4d-447b-9e35-3a6f7d459678' title='Show/Hide index repr'><svg class='icon xr-icon-database'><use xlink:href='#icon-database'></use></svg></label><div class='xr-index-data'><pre>PandasIndex(Index([   0.0,   0.25,    0.5,   0.75,    1.0,   1.25,    1.5,   1.75,    2.0,\n         2.25,\n       ...\n        357.5, 357.75,  358.0, 358.25,  358.5, 358.75,  359.0, 359.25,  359.5,\n       359.75],\n      dtype=&#x27;float64&#x27;, name=&#x27;longitude&#x27;, length=1440))</pre></div></li></ul></div></li><li class='xr-section-item'><input id='section-f42083c2-b956-4288-ad07-7b04dccadd4b' class='xr-section-summary-in' type='checkbox'  checked><label for='section-f42083c2-b956-4288-ad07-7b04dccadd4b' class='xr-section-summary' >Attributes: <span>(6)</span></label><div class='xr-section-inline-details'></div><div class='xr-section-details'><dl class='xr-attrs'><dt><span>GRIB_centre :</span></dt><dd>ecmf</dd><dt><span>GRIB_centreDescription :</span></dt><dd>European Centre for Medium-Range Weather Forecasts</dd><dt><span>GRIB_subCentre :</span></dt><dd>0</dd><dt><span>Conventions :</span></dt><dd>CF-1.7</dd><dt><span>institution :</span></dt><dd>European Centre for Medium-Range Weather Forecasts</dd><dt><span>history :</span></dt><dd>2025-01-31T14:57 GRIB to CDM+CF via cfgrib-0.9.15.0/ecCodes-2.39.0 with {&quot;source&quot;: &quot;tmp0zzmfemr/data.grib&quot;, &quot;filter_by_keys&quot;: {&quot;stream&quot;: [&quot;oper&quot;], &quot;stepType&quot;: [&quot;instant&quot;]}, &quot;encode_cf&quot;: [&quot;parameter&quot;, &quot;time&quot;, &quot;geography&quot;, &quot;vertical&quot;]}</dd></dl></div></li></ul></div></div>"
          },
          "metadata": {}
        },
        {
          "name": "stdout",
          "output_type": "stream",
          "text": "[pyodide]: Memory usage has grown to 185.8MiB (from 154.8MiB) for this notebook\n[pyodide]: Loaded 39 new dynamic libraries (123 total for this notebook)\n"
        }
      ],
      "execution_count": 5
    },
    {
      "cell_type": "code",
      "source": "",
      "metadata": {
        "trusted": true,
        "tags": [],
        "editable": true,
        "slideshow": {
          "slide_type": ""
        }
      },
      "outputs": [],
      "execution_count": null
    }
  ]
}