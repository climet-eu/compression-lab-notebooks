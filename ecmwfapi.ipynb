{
  "metadata": {
    "kernelspec": {
      "name": "python",
      "display_name": "Python (Pyodide)",
      "language": "python"
    },
    "language_info": {
      "codemirror_mode": {
        "name": "python",
        "version": 3
      },
      "file_extension": ".py",
      "mimetype": "text/x-python",
      "name": "python",
      "nbconvert_exporter": "python",
      "pygments_lexer": "ipython3",
      "version": "3.8"
    }
  },
  "nbformat_minor": 4,
  "nbformat": 4,
  "cells": [
    {
      "cell_type": "markdown",
      "source": "# Example: Downloading datasets with the `ecmwfapi`",
      "metadata": {}
    },
    {
      "cell_type": "markdown",
      "source": "**Note:** Any changes you make to this notebook will be lost once the page is closed or refreshed. Please download any files you would like to keep.\n\n**Note:** The WASM-based version of the compression lab running inside JupyterLite has only been tested in recent Firefox browsers.",
      "metadata": {}
    },
    {
      "cell_type": "code",
      "source": "# TODO: move this into the lab-specific patches\ntry:\n    import js\n    import pyodide_http\n    import urllib\nexcept ImportError:\n    pass\nelse:\n    _old_send = pyodide_http._core.send\n\n    def _new_send(\n        request: pyodide_http._core.Request, stream: bool = False\n    ) -> pyodide_http._core.Response:\n        if js.URL.new(request.url).origin != js.location.origin:\n            request.url = \"https://proxy.climet.eu/\" + request.url\n            resp = _old_send(request, stream)\n            if resp.status_code in [251, 252, 253, 257, 258]:\n                resp.status_code += 50\n            return resp\n        return _old_send(request, stream)\n\n    pyodide_http._core.send = _new_send\n\n    def _new_urlopen(url, *args, **kwargs):\n        import urllib.request\n        from http.client import HTTPResponse\n\n        from pyodide_http._core import Request, send\n        from pyodide_http._urllib import FakeSock\n\n        method = \"GET\"\n        data = None\n        headers = {}\n        if isinstance(url, urllib.request.Request):\n            method = url.get_method()\n            data = url.data\n            headers = dict(url.header_items())\n            url = url.full_url\n\n        request = Request(method, url, headers=headers, body=data)\n        resp = send(request)\n\n        # Build a fake http response\n        # Strip out the content-length header. When Content-Encoding is 'gzip' (or other\n        # compressed format) the 'Content-Length' is the compressed length, while the\n        # data itself is uncompressed. This will cause problems while decoding our\n        # fake response.\n        headers_without_content_length = (\n            {k: v for k, v in resp.headers.items() if k != \"content-length\"}\n            if \"content-encoding\" in resp.headers.keys()\n            else resp.headers\n        )\n        response_data = (\n            b\"HTTP/1.1 \"\n            + str(resp.status_code).encode(\"ascii\")\n            + b\"\\n\"\n            + \"\\n\".join(\n                f\"{'_'.join(k.title() for k in key.split('_'))}: {value}\"\n                for key, value in headers_without_content_length.items()\n            ).encode(\"ascii\")\n            + b\"\\n\\n\"\n            + resp.body\n        )\n\n        response = HTTPResponse(FakeSock(response_data))\n        response.begin()\n        return response\n\n    def _new_urlopen_self_removed(self, url, *args, **kwargs):\n        return _new_urlopen(url, *args, **kwargs)\n\n    urllib.request.urlopen = _new_urlopen\n    urllib.request.OpenerDirector.open = _new_urlopen_self_removed",
      "metadata": {
        "trusted": true
      },
      "outputs": [],
      "execution_count": 1
    },
    {
      "cell_type": "markdown",
      "source": "## Installing and configuring the `ecmwfapi` package",
      "metadata": {}
    },
    {
      "cell_type": "code",
      "source": "%pip install ecmwf-api-client\nimport ecmwfapi",
      "metadata": {
        "trusted": true
      },
      "outputs": [],
      "execution_count": 2
    },
    {
      "cell_type": "markdown",
      "source": "To run this example, you need an API key available from https://api.ecmwf.int/v1/key/, which looks as follows:\n\n```json\n{\n    \"url\"   : \"<ECMWF-API-URL>\",\n    \"key\"   : \"<ECMWF-API-KEY>\",\n    \"email\" : \"<ECMWF-API-EMAIL>\"\n}\n```\n\nPlease enter these values to set the `ECMWF_API_*` environment variables in the next cell.\n\nPlease remember that you must keep your API key private and should not share a notebook that contains your API key.",
      "metadata": {}
    },
    {
      "cell_type": "code",
      "source": "import os\nos.environ[\"ECMWF_API_URL\"] = \"<ECMWF-API-URL>\"\nos.environ[\"ECMWF_API_KEY\"] = \"<ECMWF-API-KEY>\"\nos.environ[\"ECMWF_API_EMAIL\"] = \"<ECMWF-API-EMAIL>\"",
      "metadata": {
        "trusted": true
      },
      "outputs": [],
      "execution_count": 3
    },
    {
      "cell_type": "markdown",
      "source": "## Retrieving the dataset",
      "metadata": {}
    },
    {
      "cell_type": "markdown",
      "source": "You can now retrieve the following example GRIB dataset. Once the download has completed, you should have a new `data.grib` file in your local directory.",
      "metadata": {}
    },
    {
      "cell_type": "code",
      "source": "from ecmwfapi import ECMWFDataServer\n\nserver = ECMWFDataServer()\nserver.retrieve(\n    {\n        \"dataset\": \"tigge\",\n        \"step\": \"24\",\n        \"number\": \"all\",\n        \"levtype\": \"sl\",\n        \"date\": \"20071001\",\n        \"time\": \"00\",\n        \"origin\": \"all\",\n        \"type\": \"pf\",\n        \"param\": \"tp\",\n        \"area\": \"70/-130/30/-60\",\n        \"grid\": \"2/2\",\n        \"target\": \"data.grib\",\n    }\n)",
      "metadata": {
        "trusted": true
      },
      "outputs": [
        {
          "name": "stdout",
          "text": "2024-08-30 12:29:53 ECMWF API python library 1.6.0\n2024-08-30 12:29:53 ECMWF API at https://api.ecmwf.int/v1\n2024-08-30 12:29:56 Welcome\n2024-08-30 12:29:57 In case of problems, please check https://confluence.ecmwf.int/display/WEBAPI/Web+API+FAQ or contact servicedesk@ecmwf.int\n2024-08-30 12:29:57 ------------ WARNING ------------\n2024-08-30 12:29:57 Access to this dataset is transitioning to a new interface, dates to be announced soon\n2024-08-30 12:29:57 For more information on how to access this data in the future, visit https://confluence.ecmwf.int/x/-wUiEw\n2024-08-30 12:29:57 ---------------------------------\n2024-08-30 12:29:57 Request submitted\n2024-08-30 12:29:57 Request id: 66d19115c7953e889e127628\n2024-08-30 12:29:57 Request is submitted\n2024-08-30 12:29:59 Request is active\nCalling 'nice mars /tmp/20240830-0920/7e/tmp-_mars-bxZJS9.req'\nForcing MIR_CACHE_PATH=/data/ec_coeff\nmars - WARN -\nmars - WARN -\nMIR environment variables:\nMIR_CACHE_PATH=/data/ec_coeff\nMIR_LSM_NAMED=1km.climate.v013\nUsing MARS binary: /usr/local/apps/mars/versions/6.33.19.4/bin/mars.bin\nmars - INFO   - 20240830.092959 - Welcome to MARS\nmars - INFO   - 20240830.092959 - MARS Client build stamp: 20240618101041\nmars - INFO   - 20240830.092959 - MARS Client bundle version: 6.33.19.4\nmars - INFO   - 20240830.092959 - package mars-client version: 6.33.19\nmars - INFO   - 20240830.092959 - package mir version: 1.21.0\nmars - INFO   - 20240830.092959 - package odc version: 1.5.0\nmars - INFO   - 20240830.092959 - package fdb version: 5.12.1\nmars - INFO   - 20240830.092959 - package metkit version: 1.11.12\nmars - INFO   - 20240830.092959 - package eckit version: 1.26.2\nmars - INFO   - 20240830.092959 - package eccodes version: 2.35.3\nmars - INFO   - 20240830.092959 - Maximum retrieval size is 75.00 G\nretrieve,origin=all,area=70/-130/30/-60,levtype=sl,number=all,param=tp,padding=0,step=24,grid=2/2,expver=prod,time=00,date=20071001,type=pf,class=timars - INFO   - 20240830.092959 - Automatic split on dates is on\n\nmars - INFO   - 20240830.092959 - Processing request 1\nsh: /usr/bin/mailx: No such file or directory\n\nRETRIEVE,\n    CLASS      = TI,\n    TYPE       = PF,\n    STREAM     = ENFO,\n    EXPVER     = prod,\n    REPRES     = SH,\n    LEVTYPE    = SFC,\n    PARAM      = 228228,\n    TIME       = 0000,\n    STEP       = 24,\n    NUMBER     = ALL,\n    ORIGIN     = ALL,\n    RESOL      = AUTO,\n    AREA       = 70/-130/30/-60,\n    GRID       = 2/2,\n    PADDING    = 0,\n    PROCESS    = LOCAL,\n    DATE       = 20071001\n\nmars - INFO   - 20240830.092959 - Web API request id: 66d19115c7953e889e127628\nmars - WARN   - 20240830.092959 - Cannot compute number of fields from request.\nmars - WARN   - 20240830.092959 - Try to avoid the use of the value 'ALL'\nmars - INFO   - 20240830.092959 - Setting SO_SNDBUF to 33554432 (32.00 M)\nmars - INFO   - 20240830.092959 - Current value is 8192 (8.00 K)\nmars - INFO   - 20240830.092959 - Setting SO_RCVBUF to 33554432 (32.00 M)\nmars - INFO   - 20240830.092959 - Current value is 43690 (42.67 K)\nmars - INFO   - 20240830.092959 - Calling mars on 'marsth-core', local port is 57250\nmars - INFO   - 20240830.092959 - Server task is 814 [marsth]\nmars - INFO   - 20240830.092959 - Request cost: 139 fields, 42.8401 Mbytes online, nodes: mvr000 [marsth]\nmars - INFO   - 20240830.092959 - The efficiency of your requests in the last 12 hours is 100% [marsth]\nmars - INFO   - 20240830.092959 - Transfering 44921120 bytes\nmars - WARN   - 20240830.093000 - LatLon::reorder scanningMode=64 (0x40) to scanningMode=0 (0x0)\nmars - INFO   - 20240830.093001 - 139 fields retrieved from 'marsth'\nmars - WARN   - 20240830.093001 - Visiting database marsth : expected 0, got 139\nmars - INFO   - 20240830.093001 - 139 fields have been interpolated\nmars - INFO   - 20240830.093001 - Request time:  wall: 2 sec  cpu: 2 sec\nmars - INFO   - 20240830.093001 -   Read from network: 42.84 Mbyte(s) in < 1 sec [232.13 Mbyte/sec]\nmars - INFO   - 20240830.093001 -   Visiting marsth: wall: 2 sec\nmars - INFO   - 20240830.093001 -   Post-processing: wall: 1 sec cpu: 1 sec\nmars - INFO   - 20240830.093001 -   Writing to target file: 281.62 Kbyte(s) in < 1 sec [17.02 Mbyte/sec]\nmars - INFO   - 20240830.093001 - Memory used: 50.90 Mbyte(s)\nmars - INFO   - 20240830.093001 - No errors reported\nProcess '['nice', 'mars', '/tmp/20240830-0920/7e/tmp-_mars-bxZJS9.req']' finished\n2024-08-30 12:30:05 Request is complete\n2024-08-30 12:30:05 Transfering 281.621 Kbytes into data.grib\n2024-08-30 12:30:05 From https://apps.ecmwf.int/api/streaming/private/blue/02/20240830-0920/15/_mars-bol-webmars-private-svc-blue-010-4a73a881a8d5eead47db9eff2f9935a4-uM3zy7.grib\n2024-08-30 12:30:05 Transfer rate 722.106 Kbytes/s\n",
          "output_type": "stream"
        }
      ],
      "execution_count": 4
    },
    {
      "cell_type": "code",
      "source": "",
      "metadata": {
        "trusted": true
      },
      "outputs": [],
      "execution_count": null
    }
  ]
}